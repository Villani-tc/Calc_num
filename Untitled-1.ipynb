{
 "cells": [
  {
   "cell_type": "code",
   "execution_count": 8,
   "metadata": {},
   "outputs": [
    {
     "name": "stdout",
     "output_type": "stream",
     "text": [
      "Aproximação da Raiz(4): 2.0\n",
      "Valor exato da Raiz(4): 2.0\n",
      "Número de iterações: 4\n",
      "Erro absoluto: 0.0\n"
     ]
    }
   ],
   "source": [
    "def raiz_metodo_ponto_fixo(a, x0=1.0, tol=1e-10, max_iter=1):\n",
    "    \n",
    "    \"\"\"\n",
    "    Calcula aproximadamente a raiz(a) usando a iteração de ponto fixo:\n",
    "       x_{k+1} = x_k * ((x_k^2 + 3a) / (3x_k^2 + a))\n",
    "\n",
    "    Parâmetros:\n",
    "      a        : número positivo cuja raiz quadrada será calculada\n",
    "      x0       : chute inicial que pertence ao domínio da função ( >= 0)\n",
    "      tol      : tolerância para critério de parada, quando o erro do valor aproximado quando comparado ao real for menor que \"tol\" a iteração é parada\n",
    "      max_iter : número máximo de iterações\n",
    "    Retorna:\n",
    "      (x_aproximado, k) onde\n",
    "         x_aproximado é a aproximação final da raiz(a)\n",
    "         k é o número de iterações realizadas\n",
    "    \"\"\"\n",
    "    x = x0\n",
    "\n",
    "\n",
    "    for k in range(1, max_iter+1):\n",
    "        x_new = x * ((x**2 + 3*a) / (3*x**2 + a))\n",
    "        \n",
    "        # Verifica critério de parada\n",
    "        if abs(x_new - x) < tol:\n",
    "            return x_new, k\n",
    "        \n",
    "        x = x_new\n",
    "    \n",
    "    # Se chegar aqui, não convergiu no max_iter, então retorna o valor atual\n",
    "    return x, max_iter\n",
    "\n",
    "# Exemplo de uso:\n",
    "if __name__ == \"__main__\":\n",
    "    import math\n",
    "    \n",
    "    a = 4\n",
    "    x_aprox, n_iter = raiz_metodo_ponto_fixo(a, x0=1.0, tol=1e-10, max_iter=1000)\n",
    "    \n",
    "    print(f\"Aproximação da Raiz({a}): {x_aprox}\")\n",
    "    print(f\"Valor exato da Raiz({a}): {math.sqrt(a)}\")\n",
    "    print(f\"Número de iterações: {n_iter}\")\n",
    "    print(f\"Erro absoluto: {abs(x_aprox - math.sqrt(a))}\")\n"
   ]
  }
 ],
 "metadata": {
  "kernelspec": {
   "display_name": "Python 3",
   "language": "python",
   "name": "python3"
  },
  "language_info": {
   "codemirror_mode": {
    "name": "ipython",
    "version": 3
   },
   "file_extension": ".py",
   "mimetype": "text/x-python",
   "name": "python",
   "nbconvert_exporter": "python",
   "pygments_lexer": "ipython3",
   "version": "3.12.8"
  }
 },
 "nbformat": 4,
 "nbformat_minor": 2
}
